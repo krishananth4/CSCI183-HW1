{
 "cells": [
  {
   "cell_type": "markdown",
   "metadata": {},
   "source": [
    "PYTHON BASICS"
   ]
  },
  {
   "cell_type": "markdown",
   "metadata": {},
   "source": [
    "Q1. Write a Python program to print the number and sum of prime numbers which are less than or equal to a given number."
   ]
  },
  {
   "cell_type": "code",
   "execution_count": 85,
   "metadata": {},
   "outputs": [
    {
     "name": "stdout",
     "output_type": "stream",
     "text": [
      "Prime Numbers until 10: [2, 3, 5, 7]\n",
      "Sum of Prime Numbers: 17\n"
     ]
    }
   ],
   "source": [
    "def sum_of_primes(limit):\n",
    "    sum_of_prime_nums = 0\n",
    "    composite_nums = []\n",
    "    prime_nums = []\n",
    "\n",
    "    # Retrieve all the composite numbers\n",
    "    for i in range(2, limit+1):\n",
    "        for j in range (2, i):\n",
    "            if i % j == 0:\n",
    "                composite_nums.append(i)\n",
    "                break\n",
    "    # Opposite of composite is prime, so if a number is not in the composite number list then it is prime\n",
    "    for i in range(2, limit+1):\n",
    "        if i not in composite_nums:\n",
    "            sum_of_prime_nums += i\n",
    "            prime_nums.append(i)\n",
    "    print(f\"Prime Numbers until {limit}: {prime_nums}\")\n",
    "    print(f\"Sum of Prime Numbers: {sum_of_prime_nums}\")\n",
    "\n",
    "# Function to parse the input\n",
    "def limit_input():\n",
    "    while True:\n",
    "        try:\n",
    "            limit = int(input(\"Please enter the limit: \"))\n",
    "        except ValueError:\n",
    "            print(\"ERROR: Please enter an integer\")\n",
    "            continue\n",
    "        return limit\n",
    "\n",
    "limit = limit_input()\n",
    "sum_of_primes(limit)\n"
   ]
  },
  {
   "cell_type": "markdown",
   "metadata": {},
   "source": [
    "Q2. Write a Python program to find the largest product of the pair of adjacent elements from a given list of integers."
   ]
  },
  {
   "cell_type": "code",
   "execution_count": 86,
   "metadata": {},
   "outputs": [
    {
     "name": "stdout",
     "output_type": "stream",
     "text": [
      "Here is the default test case:  [2, 10, 3, 1, 4, 20, 7, 9]\n",
      "Elements: [2, 10, 3, 1, 4, 20, 7, 9]\n",
      "Largest Product: 140\n"
     ]
    }
   ],
   "source": [
    "def adj_elems_largest_product(elements):\n",
    "    if len(elements) == 1:\n",
    "        print(\"Largest Product:\", elements[0])\n",
    "        return\n",
    "    print(\"Elements:\", elements)\n",
    "    # Check the elements next to each other and multiply\n",
    "    elem1 = 0\n",
    "    elem2 = 1\n",
    "    largest_product = 0\n",
    "    for i in range(0, len(elements)-1):\n",
    "        product = elements[elem1] * elements[elem2]\n",
    "        elem1 += 1\n",
    "        elem2 += 1\n",
    "        # Store the largest product calculated\n",
    "        if product >= largest_product:\n",
    "            largest_product = product\n",
    "\n",
    "    print(\"Largest Product:\", largest_product)\n",
    "\n",
    "# Parse the input and provide the user with the ability to input their own test case\n",
    "def elements_input():\n",
    "    new_elems = []\n",
    "    elements = [2,10,3,1,4,20,7,9]\n",
    "    print(\"Here is the default test case: \", elements)\n",
    "    while True:\n",
    "        response = input(\"Would you like to change it? (y/n): \")\n",
    "        response = response.lower().strip()\n",
    "        if response == 'y' or response == 'yes':\n",
    "            while True:\n",
    "                try:\n",
    "                    add_elements = int(input(\"Please provide an element: \"))\n",
    "                    new_elems.append(add_elements)\n",
    "                except ValueError:\n",
    "                    print(\"ERROR: Please enter an integer\")\n",
    "                    continue\n",
    "                while True:\n",
    "                    question = input(\"Do you want to continue adding? (y/n)\")\n",
    "                    if question == 'y' or question == 'yes':\n",
    "                        break\n",
    "                    elif question == 'n' or question == 'no':\n",
    "                        return new_elems\n",
    "                    else:\n",
    "                        print(\"ERROR: Invalid Response. Enter 'y' for yes or 'n' for no\")\n",
    "                        continue\n",
    "        elif response == 'n' or response == 'no':\n",
    "            return elements\n",
    "        else:\n",
    "            print(\"ERROR: Invalid Response. Enter 'y' for yes or 'n' for no\")\n",
    "            continue\n",
    "\n",
    "elements = elements_input()\n",
    "adj_elems_largest_product(elements)"
   ]
  },
  {
   "cell_type": "markdown",
   "metadata": {},
   "source": [
    "Q3. Given a password, we have to categorize it as valid or invalid. There are some checks that need to be met to be a valid password. For a invalid password, we need to return the reason for it to be invalid."
   ]
  },
  {
   "cell_type": "code",
   "execution_count": 88,
   "metadata": {},
   "outputs": [
    {
     "name": "stdout",
     "output_type": "stream",
     "text": [
      "This is a valid password!\n"
     ]
    }
   ],
   "source": [
    "def check_password_validity(password):\n",
    "    pswd_list = []\n",
    "    num_flag = False\n",
    "    uppercase_flag = False\n",
    "    lowercase_flag = False\n",
    "    special_chars_flag = False\n",
    "    length_flag = False\n",
    "    for i in range(0, len(password)):\n",
    "        pswd_list.append(password[i])\n",
    "    # Gather a list of all the elements that are categorized as numbers, lowercase letters, uppercase letters, and special characters.\n",
    "    numbers = ['0','1','2','3','4','5','6','7','8','9']\n",
    "    uppercase = ['A','B','C','D','E','F','G','H','I','J','K','L','M','N','O','P','Q','R','S','T','U','V','W','X','Y','Z']\n",
    "    lowercase = ['a','b','c','d','e','f','g','h','i','j','k','l','m','n','o','p','q','r','s','t','u','v','w','x','y','z']\n",
    "    special_chars = ['~','`','!','@','#','$','%','^','&','*','(',')','_','-','+','=','{','}','[',']','|',':',';','\\\"','\\'','<','>',',','.','?','/']\n",
    "\n",
    "    # Parse the entered password and validate it based on checks\n",
    "    valid_pswd = [numbers, uppercase, lowercase, special_chars]\n",
    "    for i in range(0, len(valid_pswd)):\n",
    "        for chars in valid_pswd[i]:\n",
    "            if chars in pswd_list:\n",
    "                if i == 0:\n",
    "                    num_flag = True\n",
    "                    break\n",
    "                elif i == 1:\n",
    "                    uppercase_flag = True\n",
    "                    break\n",
    "                elif i == 2:\n",
    "                    lowercase_flag = True\n",
    "                    break\n",
    "                elif i == 3:\n",
    "                    special_chars_flag = True\n",
    "                    break\n",
    "\n",
    "    # Error handling is done here as it will print to the user the unsatified requirements for the password\n",
    "\n",
    "    if num_flag == False:\n",
    "        print(\"ERROR: Password requires at least one number!\")\n",
    "\n",
    "    if uppercase_flag == False:\n",
    "        print(\"ERROR: Password requires at least one uppercase letter!\")\n",
    "\n",
    "    if lowercase_flag == False:\n",
    "        print(\"ERROR: Password requires at least one lowercase letter!\")\n",
    "\n",
    "    if special_chars_flag == False:\n",
    "        print(\"ERROR: Password requires at least one special character!\")\n",
    "\n",
    "    if len(pswd_list) > 5 and len(pswd_list) < 21:\n",
    "        length_flag = True\n",
    "    else:\n",
    "        print(\"ERROR: Password needs to be between 6 to 20 characters long\")\n",
    "\n",
    "    if num_flag == True and uppercase_flag == True and lowercase_flag == True and special_chars_flag == True and length_flag == True:\n",
    "        print(\"This is a valid password!\")\n",
    "\n",
    "# The password input is taken here\n",
    "password = input(\"Please enter a password: \")\n",
    "check_password_validity(password)"
   ]
  },
  {
   "cell_type": "markdown",
   "metadata": {},
   "source": [
    "Q4. Given a password, we have to categorize it as a strong or weak one. There are some checks that need to be met to be a strong password. For a weak password, we need to return the reason for it to be weak."
   ]
  },
  {
   "cell_type": "code",
   "execution_count": 89,
   "metadata": {},
   "outputs": [
    {
     "name": "stdout",
     "output_type": "stream",
     "text": [
      "This is a strong password\n"
     ]
    }
   ],
   "source": [
    "# Checking whether the password is at a valid length\n",
    "def check_length(pswd_list):\n",
    "    if len(pswd_list) > 8 and len(pswd_list) < 21:\n",
    "        return True\n",
    "    else:\n",
    "        print(\"PASSWORD STRENGTH ERROR: Password needs to be at least 9 characters and at most 20 characters long\")\n",
    "        return False\n",
    "\n",
    "# Checking for whitespace or newlines in the password\n",
    "def check_whitespace(password):\n",
    "    if \" \" in password or '\\n' in password:\n",
    "        print(\"PASSWORD STRENGTH ERROR: Password must be not contain any spaces or newlines\")\n",
    "        return False\n",
    "    else:\n",
    "        return True\n",
    "\n",
    "# Checking for repeated characters in the password\n",
    "def check_repeat_chars(pswd_list):\n",
    "    start = 0\n",
    "    middle = 1\n",
    "    end = 2\n",
    "    for i in range(0, len(pswd_list)):\n",
    "        if pswd_list[start] == pswd_list[middle] == pswd_list[end]:\n",
    "            print(\"PASSWORD STRENGTH ERROR: Passwords cannot have three or more repeating characters in a row.\")\n",
    "            return False\n",
    "        if end == len(pswd_list)-1:\n",
    "            return True\n",
    "        start += 1\n",
    "        middle += 1\n",
    "        end += 1\n",
    "\n",
    "# Checking for string patterns in the password\n",
    "def check_pattern(pswd_list):\n",
    "    start = -1\n",
    "    end = 0\n",
    "    checker_start = 0\n",
    "    checker_end = 1\n",
    "    for i in range(0, len(pswd_list)):\n",
    "        start += 1\n",
    "        end += 1\n",
    "        if end == len(pswd_list):\n",
    "            return True\n",
    "        for j in range(0, len(pswd_list)):\n",
    "            checker_start += 1\n",
    "            checker_end += 1\n",
    "            if checker_end == len(pswd_list) and checker_start == len(pswd_list)-1:\n",
    "                try:\n",
    "                    if pswd_list[start] == pswd_list[checker_start] and pswd_list[end] == pswd_list[checker_end]:\n",
    "                        return False\n",
    "                except IndexError:\n",
    "                    break\n",
    "                checker_start = start+1\n",
    "                checker_end = end+1\n",
    "            try:\n",
    "                if pswd_list[start] == pswd_list[checker_start] and pswd_list[end] == pswd_list[checker_end]:\n",
    "                    print(\"PASSWORD STRENGTH ERROR: The same string pattern (minimum of two character length) should not be repeated\")\n",
    "                    return False\n",
    "            except IndexError:\n",
    "                break\n",
    "\n",
    "# Ensures that all the checks have gone through\n",
    "def check_password_strength(password):\n",
    "    pswd_list = []\n",
    "    length_flag = False\n",
    "    whitespace_flag = False\n",
    "    repeat_chars_flag = False\n",
    "    pattern_flag = False\n",
    "    for i in range(0, len(password)):\n",
    "        pswd_list.append(password[i])\n",
    "\n",
    "    length_flag = check_length(pswd_list)\n",
    "    whitespace_flag = check_whitespace(password)\n",
    "    repeat_chars_flag = check_repeat_chars(pswd_list)\n",
    "    pattern_flag = check_pattern(pswd_list)\n",
    "\n",
    "    if length_flag == True and whitespace_flag == True and repeat_chars_flag == True and pattern_flag == True:\n",
    "        print(\"This is a strong password\")\n",
    "\n",
    "# Password input is taken here\n",
    "password = input(\"Please enter a password: \")\n",
    "check_password_strength(password)"
   ]
  },
  {
   "cell_type": "markdown",
   "metadata": {},
   "source": [
    "PYTHON FOR DATA SCIENCE"
   ]
  },
  {
   "cell_type": "markdown",
   "metadata": {},
   "source": [
    "Q1. Write Python code to read in all the columns (as a DataFrame) of the file cities.csv Download cities.csv. Print the content of the columns and also the shape of the dataframe"
   ]
  },
  {
   "cell_type": "code",
   "execution_count": 90,
   "metadata": {},
   "outputs": [
    {
     "name": "stdout",
     "output_type": "stream",
     "text": [
      "     LatD   \"LatM\"   \"LatS\"  \"NS\"   \"LonD\"   \"LonM\"   \"LonS\"  \"EW\"  \\\n",
      "0      41        5       59   \"N\"       80       39        0   \"W\"   \n",
      "1      42       52       48   \"N\"       97       23       23   \"W\"   \n",
      "2      46       35       59   \"N\"      120       30       36   \"W\"   \n",
      "3      42       16       12   \"N\"       71       48        0   \"W\"   \n",
      "4      43       37       48   \"N\"       89       46       11   \"W\"   \n",
      "..    ...      ...      ...   ...      ...      ...      ...   ...   \n",
      "123    39       31       12   \"N\"      119       48       35   \"W\"   \n",
      "124    50       25       11   \"N\"      104       39        0   \"W\"   \n",
      "125    40       10       48   \"N\"      122       14       23   \"W\"   \n",
      "126    40       19       48   \"N\"       75       55       48   \"W\"   \n",
      "127    41        9       35   \"N\"       81       14       23   \"W\"   \n",
      "\n",
      "                 \"City\"  \"State\"  \n",
      "0          \"Youngstown\"       OH  \n",
      "1             \"Yankton\"       SD  \n",
      "2              \"Yakima\"       WA  \n",
      "3           \"Worcester\"       MA  \n",
      "4     \"Wisconsin Dells\"       WI  \n",
      "..                  ...      ...  \n",
      "123              \"Reno\"       NV  \n",
      "124            \"Regina\"       SA  \n",
      "125         \"Red Bluff\"       CA  \n",
      "126           \"Reading\"       PA  \n",
      "127           \"Ravenna\"      OH   \n",
      "\n",
      "[128 rows x 10 columns]\n"
     ]
    }
   ],
   "source": [
    "import pandas as pd\n",
    "\n",
    "# The cities.csv file is read and converted into a Pandas DataFrame\n",
    "dataframe = pd.read_csv(\"cities.csv\")\n",
    "print(dataframe)\n"
   ]
  },
  {
   "cell_type": "markdown",
   "metadata": {},
   "source": [
    "Q2. Create a subset of the DataFrame from Q1 in the following way: [6 points]\n",
    "\n",
    "    - DataFrame Subset 1: Contains columns LatD,LonD,LatM,LonM and all the rows of the original DataFrame\n",
    "    - DataFrame Subset 2: Contains all columns but only first 100 rows of the original DataFrame\n",
    "    - DataFrame Subset 3: Contains 2nd, 3rd and 4th column of the original DataFrame and first 10 rows\n"
   ]
  },
  {
   "cell_type": "code",
   "execution_count": 91,
   "metadata": {},
   "outputs": [
    {
     "data": {
      "text/html": [
       "<div>\n",
       "<style scoped>\n",
       "    .dataframe tbody tr th:only-of-type {\n",
       "        vertical-align: middle;\n",
       "    }\n",
       "\n",
       "    .dataframe tbody tr th {\n",
       "        vertical-align: top;\n",
       "    }\n",
       "\n",
       "    .dataframe thead th {\n",
       "        text-align: right;\n",
       "    }\n",
       "</style>\n",
       "<table border=\"1\" class=\"dataframe\">\n",
       "  <thead>\n",
       "    <tr style=\"text-align: right;\">\n",
       "      <th></th>\n",
       "      <th>\"LatM\"</th>\n",
       "      <th>\"LatS\"</th>\n",
       "      <th>\"NS\"</th>\n",
       "    </tr>\n",
       "  </thead>\n",
       "  <tbody>\n",
       "    <tr>\n",
       "      <th>0</th>\n",
       "      <td>5</td>\n",
       "      <td>59</td>\n",
       "      <td>\"N\"</td>\n",
       "    </tr>\n",
       "    <tr>\n",
       "      <th>1</th>\n",
       "      <td>52</td>\n",
       "      <td>48</td>\n",
       "      <td>\"N\"</td>\n",
       "    </tr>\n",
       "    <tr>\n",
       "      <th>2</th>\n",
       "      <td>35</td>\n",
       "      <td>59</td>\n",
       "      <td>\"N\"</td>\n",
       "    </tr>\n",
       "    <tr>\n",
       "      <th>3</th>\n",
       "      <td>16</td>\n",
       "      <td>12</td>\n",
       "      <td>\"N\"</td>\n",
       "    </tr>\n",
       "    <tr>\n",
       "      <th>4</th>\n",
       "      <td>37</td>\n",
       "      <td>48</td>\n",
       "      <td>\"N\"</td>\n",
       "    </tr>\n",
       "    <tr>\n",
       "      <th>5</th>\n",
       "      <td>5</td>\n",
       "      <td>59</td>\n",
       "      <td>\"N\"</td>\n",
       "    </tr>\n",
       "    <tr>\n",
       "      <th>6</th>\n",
       "      <td>52</td>\n",
       "      <td>48</td>\n",
       "      <td>\"N\"</td>\n",
       "    </tr>\n",
       "    <tr>\n",
       "      <th>7</th>\n",
       "      <td>11</td>\n",
       "      <td>23</td>\n",
       "      <td>\"N\"</td>\n",
       "    </tr>\n",
       "    <tr>\n",
       "      <th>8</th>\n",
       "      <td>14</td>\n",
       "      <td>24</td>\n",
       "      <td>\"N\"</td>\n",
       "    </tr>\n",
       "    <tr>\n",
       "      <th>9</th>\n",
       "      <td>45</td>\n",
       "      <td>0</td>\n",
       "      <td>\"N\"</td>\n",
       "    </tr>\n",
       "  </tbody>\n",
       "</table>\n",
       "</div>"
      ],
      "text/plain": [
       "   \"LatM\"  \"LatS\"  \"NS\"\n",
       "0       5      59   \"N\"\n",
       "1      52      48   \"N\"\n",
       "2      35      59   \"N\"\n",
       "3      16      12   \"N\"\n",
       "4      37      48   \"N\"\n",
       "5       5      59   \"N\"\n",
       "6      52      48   \"N\"\n",
       "7      11      23   \"N\"\n",
       "8      14      24   \"N\"\n",
       "9      45       0   \"N\""
      ]
     },
     "execution_count": 91,
     "metadata": {},
     "output_type": "execute_result"
    }
   ],
   "source": [
    "import pandas as pd\n",
    "\n",
    "# Each dataframe instance is modified according to the direction\n",
    "\n",
    "dfsub1 = pd.read_csv(\"cities.csv\")\n",
    "dfsub1 = dfsub1.drop([' \\\"NS\\\"',' \\\"EW\\\"',' \\\"City\\\"', ' \\\"State\\\"'], axis=1)\n",
    "dfsub1 = dfsub1.head(128)\n",
    "dfsub1\n",
    "\n",
    "dfsub2 = pd.read_csv(\"cities.csv\")\n",
    "dfsub2 = dfsub2.head(100)\n",
    "dfsub2\n",
    "\n",
    "dfsub3 = pd.read_csv(\"cities.csv\")\n",
    "dfsub3 = dfsub3.drop(dfsub3.columns[[0,4,5,6,7,8,9]], axis=1)\n",
    "dfsub3 = dfsub3.head(10)\n",
    "dfsub3"
   ]
  },
  {
   "cell_type": "markdown",
   "metadata": {},
   "source": [
    "Q3. Write a Python code to read specific columns (LatD,LonD and City) and (LatM, LonM and State) of a CSV file (cities.csv Download cities.csv) and print the content of the columns. Also print the 'type' of data in each of the columns"
   ]
  },
  {
   "cell_type": "code",
   "execution_count": 92,
   "metadata": {},
   "outputs": [
    {
     "name": "stdout",
     "output_type": "stream",
     "text": [
      "     LatD   \"LatM\"   \"LonD\"   \"LonM\"              \"City\"  \"State\"\n",
      "0      41        5       80       39        \"Youngstown\"       OH\n",
      "1      42       52       97       23           \"Yankton\"       SD\n",
      "2      46       35      120       30            \"Yakima\"       WA\n",
      "3      42       16       71       48         \"Worcester\"       MA\n",
      "4      43       37       89       46   \"Wisconsin Dells\"       WI\n",
      "..    ...      ...      ...      ...                 ...      ...\n",
      "123    39       31      119       48              \"Reno\"       NV\n",
      "124    50       25      104       39            \"Regina\"       SA\n",
      "125    40       10      122       14         \"Red Bluff\"       CA\n",
      "126    40       19       75       55           \"Reading\"       PA\n",
      "127    41        9       81       14           \"Ravenna\"      OH \n",
      "\n",
      "[128 rows x 6 columns]\n",
      "Column: LatD | Type of Data: int64\n",
      "Column:  \"LatM\" | Type of Data: int64\n",
      "Column:  \"LonD\" | Type of Data: int64\n",
      "Column:  \"LonM\" | Type of Data: int64\n",
      "Column:  \"City\" | Type of Data: object\n",
      "Column:  \"State\" | Type of Data: object\n"
     ]
    }
   ],
   "source": [
    "import pandas as pd\n",
    "\n",
    "# Dataframe is created here and specified columns are removed\n",
    "df = pd.read_csv(\"cities.csv\")\n",
    "df = df.drop([' \\\"NS\\\"', ' \\\"EW\\\"', ' \\\"LatS\\\"', ' \\\"LonS\\\"'], axis=1)\n",
    "\n",
    "print(df)\n",
    "\n",
    "# The column type and the type of data in the column is displayed\n",
    "for cols in df.columns:\n",
    "    print(\"Column:\", cols, \"| Type of Data:\", df[cols].dtype)"
   ]
  },
  {
   "cell_type": "markdown",
   "metadata": {},
   "source": [
    "Q4. Write a Python code to write a Python list of lists (list_of_list.pkl Download list_of_list.pkl) to a csv file. After writing the CSV file, read the CSV file and display the content."
   ]
  },
  {
   "cell_type": "code",
   "execution_count": 93,
   "metadata": {},
   "outputs": [
    {
     "name": "stdout",
     "output_type": "stream",
     "text": [
      "                competitorname chocolate fruity caramel peanutyalmondy nougat  \\\n",
      "0                  Mr Good Bar         y      n       n              y      n   \n",
      "1   Chewey Lemonhead Fruit Mix         n      y       n              n      n   \n",
      "2                    Starburst         n      y       n              n      n   \n",
      "3                   Gobstopper         n      y       n              n      n   \n",
      "4            Haribo Gold Bears         n      y       n              n      n   \n",
      "..                         ...       ...    ...     ...            ...    ...   \n",
      "80          Caramel Apple Pops         n      y       y              n      n   \n",
      "81                     Fun Dip         n      y       n              n      n   \n",
      "82                       Runts         n      y       n              n      n   \n",
      "83                        Dots         n      y       n              n      n   \n",
      "84                    Snickers         y      n       y              y      y   \n",
      "\n",
      "   crispedricewafer hard bar pluribus  sugarpercent  pricepercent  winpercent  \n",
      "0                 n    n   y        n         0.313         0.918   54.526451  \n",
      "1                 n    n   n        y         0.732         0.511   36.017628  \n",
      "2                 n    n   n        y         0.151         0.220   67.037628  \n",
      "3                 n    y   n        y         0.906         0.453   46.783348  \n",
      "4                 n    n   n        y         0.465         0.465   57.119740  \n",
      "..              ...  ...  ..      ...           ...           ...         ...  \n",
      "80                n    n   n        n         0.604         0.325   34.517681  \n",
      "81                n    y   n        n         0.732         0.325   39.185505  \n",
      "82                n    y   n        y         0.872         0.279   42.849144  \n",
      "83                n    n   n        y         0.732         0.511   42.272076  \n",
      "84                n    n   y        n         0.546         0.651   76.673782  \n",
      "\n",
      "[85 rows x 13 columns]\n"
     ]
    }
   ],
   "source": [
    "import pickle\n",
    "import csv\n",
    "import pandas as pd\n",
    "\n",
    "# pickle package is used to load the .pkl file data into a list of lists\n",
    "with open(\"list_of_list.pkl\", \"rb\") as fp:\n",
    "    data = pickle.load(fp)\n",
    "\n",
    "# The list of lists is then written into a .csv file\n",
    "with open('list_of_list.csv', 'w') as file:\n",
    "    out = csv.writer(file)\n",
    "    out.writerows(data)\n",
    "\n",
    "# The .csv file is then converted into a Pandas DataFrame\n",
    "df = pd.read_csv(\"list_of_list.csv\")\n",
    "print(df)"
   ]
  },
  {
   "cell_type": "markdown",
   "metadata": {},
   "source": [
    "Q5. Write a Python program to convert a Python DataFrame to a dictionary object."
   ]
  },
  {
   "cell_type": "code",
   "execution_count": 94,
   "metadata": {},
   "outputs": [
    {
     "name": "stdout",
     "output_type": "stream",
     "text": [
      "{'LatD': [41, 42, 46, 42, 43, 36, 49, 39, 34, 39, 48, 41, 37, 33, 37, 40, 26, 47, 41, 31, 44, 42, 44, 43, 42, 41, 38, 41, 46, 31, 38, 28, 32, 49, 46, 30, 43, 39, 32, 42, 33, 34, 36, 32, 37, 40, 44, 43, 39, 41, 33, 39, 27, 30, 47, 43, 32, 33, 40, 37, 44, 40, 40, 38, 39, 37, 42, 39, 47, 41, 43, 42, 32, 33, 44, 35, 32, 38, 47, 41, 41, 42, 32, 46, 27, 38, 35, 34, 33, 37, 37, 41, 32, 34, 29, 31, 40, 38, 36, 38, 38, 44, 44, 38, 39, 42, 44, 45, 29, 43, 38, 43, 33, 35, 41, 42, 43, 44, 37, 37, 39, 38, 45, 39, 50, 40, 40, 41], ' \"LatM\"': [5, 52, 35, 16, 37, 5, 52, 11, 14, 45, 9, 15, 40, 54, 41, 4, 43, 25, 25, 13, 57, 21, 54, 58, 30, 32, 53, 50, 4, 32, 40, 48, 20, 16, 55, 49, 6, 54, 20, 33, 12, 15, 9, 13, 10, 13, 45, 39, 2, 39, 25, 28, 57, 27, 14, 2, 35, 55, 59, 57, 31, 21, 37, 9, 55, 13, 5, 47, 40, 40, 32, 29, 30, 38, 47, 13, 25, 42, 35, 24, 52, 49, 4, 29, 20, 26, 40, 25, 45, 20, 46, 27, 42, 6, 25, 27, 45, 22, 40, 50, 31, 56, 57, 37, 46, 5, 25, 34, 53, 25, 35, 36, 24, 56, 35, 16, 9, 1, 16, 32, 49, 46, 38, 31, 25, 10, 19, 9], ' \"LatS\"': [59, 48, 59, 12, 48, 59, 48, 23, 24, 0, 0, 0, 48, 0, 23, 11, 11, 11, 11, 11, 35, 36, 0, 47, 0, 59, 23, 59, 11, 59, 48, 35, 59, 12, 11, 47, 36, 0, 59, 36, 35, 35, 35, 12, 11, 47, 35, 0, 59, 0, 48, 12, 0, 0, 24, 59, 59, 11, 24, 35, 12, 36, 11, 0, 11, 12, 59, 59, 11, 48, 24, 24, 35, 23, 59, 47, 11, 35, 59, 35, 11, 11, 48, 24, 24, 23, 48, 11, 35, 24, 47, 0, 35, 36, 12, 35, 35, 11, 11, 24, 47, 23, 0, 11, 12, 59, 11, 11, 23, 48, 24, 36, 0, 23, 24, 12, 35, 12, 12, 24, 48, 12, 23, 12, 11, 48, 48, 35], ' \"NS\"': [' \"N\"', ' \"N\"', ' \"N\"', ' \"N\"', ' \"N\"', ' \"N\"', ' \"N\"', ' \"N\"', ' \"N\"', ' \"N\"', ' \"N\"', ' \"N\"', ' \"N\"', ' \"N\"', ' \"N\"', ' \"N\"', ' \"N\"', ' \"N\"', ' \"N\"', ' \"N\"', ' \"N\"', ' \"N\"', ' \"N\"', ' \"N\"', ' \"N\"', ' \"N\"', ' \"N\"', ' \"N\"', ' \"N\"', ' \"N\"', ' \"N\"', ' \"N\"', ' \"N\"', ' \"N\"', ' \"N\"', ' \"N\"', ' \"N\"', ' \"N\"', ' \"N\"', ' \"N\"', ' \"N\"', ' \"N\"', ' \"N\"', ' \"N\"', ' \"N\"', ' \"N\"', ' \"N\"', ' \"N\"', ' \"N\"', ' \"N\"', ' \"N\"', ' \"N\"', ' \"N\"', ' \"N\"', ' \"N\"', ' \"N\"', ' \"N\"', ' \"N\"', ' \"N\"', ' \"N\"', ' \"N\"', ' \"N\"', ' \"N\"', ' \"N\"', ' \"N\"', ' \"N\"', ' \"N\"', ' \"N\"', ' \"N\"', ' \"N\"', ' \"N\"', ' \"N\"', ' \"N\"', ' \"N\"', ' \"N\"', ' \"N\"', ' \"N\"', ' \"N\"', ' \"N\"', ' \"N\"', ' \"N\"', ' \"N\"', ' \"N\"', ' \"N\"', ' \"N\"', ' \"N\"', ' \"N\"', ' \"N\"', ' \"N\"', ' \"N\"', ' \"N\"', ' \"N\"', ' \"N\"', ' \"N\"', ' \"N\"', ' \"N\"', ' \"N\"', ' \"N\"', ' \"N\"', ' \"N\"', ' \"N\"', ' \"N\"', ' \"N\"', ' \"N\"', ' \"N\"', ' \"N\"', ' \"N\"', ' \"N\"', ' \"N\"', ' \"N\"', ' \"N\"', ' \"N\"', ' \"N\"', ' \"N\"', ' \"N\"', ' \"N\"', ' \"N\"', ' \"N\"', ' \"N\"', ' \"N\"', ' \"N\"', ' \"N\"', ' \"N\"', ' \"N\"', ' \"N\"', ' \"N\"', ' \"N\"', ' \"N\"'], ' \"LonD\"': [80, 97, 120, 71, 89, 80, 97, 78, 77, 75, 103, 77, 82, 98, 97, 80, 80, 120, 122, 82, 89, 87, 97, 75, 92, 73, 77, 79, 118, 97, 87, 97, 90, 123, 98, 83, 75, 79, 95, 114, 87, 88, 95, 110, 104, 74, 85, 79, 95, 83, 94, 87, 82, 84, 122, 76, 82, 80, 75, 121, 89, 80, 103, 79, 83, 93, 72, 89, 117, 86, 96, 96, 93, 96, 106, 96, 87, 93, 122, 75, 103, 73, 81, 84, 82, 122, 105, 119, 117, 121, 122, 82, 117, 117, 98, 100, 111, 75, 121, 97, 106, 123, 93, 90, 94, 86, 72, 94, 81, 83, 121, 72, 104, 77, 109, 89, 77, 92, 79, 77, 84, 112, 89, 119, 104, 122, 75, 81], ' \"LonM\"': [39, 23, 30, 48, 46, 15, 9, 9, 55, 33, 37, 0, 16, 29, 20, 43, 3, 19, 23, 20, 38, 49, 6, 55, 20, 3, 1, 8, 19, 8, 31, 0, 52, 7, 0, 16, 13, 43, 18, 28, 34, 42, 54, 58, 30, 46, 37, 22, 40, 32, 3, 24, 26, 16, 25, 9, 20, 20, 11, 17, 34, 37, 13, 4, 48, 17, 35, 39, 24, 15, 43, 23, 45, 36, 57, 40, 1, 13, 19, 40, 39, 56, 5, 20, 31, 43, 56, 41, 52, 52, 25, 42, 9, 18, 30, 26, 52, 35, 39, 36, 0, 1, 5, 11, 50, 28, 1, 10, 19, 56, 29, 58, 31, 48, 13, 5, 36, 27, 56, 26, 53, 5, 25, 48, 39, 14, 55, 14], ' \"LonS\"': [0, 23, 36, 0, 11, 0, 0, 36, 11, 0, 12, 0, 47, 23, 23, 12, 0, 11, 23, 59, 23, 48, 36, 11, 23, 0, 47, 23, 48, 23, 47, 36, 47, 12, 36, 47, 48, 48, 0, 12, 11, 35, 36, 12, 36, 11, 47, 47, 11, 24, 0, 36, 59, 47, 48, 0, 23, 59, 24, 24, 11, 12, 12, 11, 35, 24, 23, 0, 36, 0, 48, 23, 0, 36, 35, 48, 11, 48, 48, 11, 36, 59, 23, 59, 47, 12, 59, 59, 12, 47, 11, 35, 0, 35, 0, 24, 47, 59, 0, 36, 0, 47, 59, 24, 23, 48, 11, 11, 11, 24, 23, 12, 47, 0, 48, 59, 36, 35, 24, 59, 23, 23, 11, 35, 0, 23, 48, 23], ' \"EW\"': [' \"W\"', ' \"W\"', ' \"W\"', ' \"W\"', ' \"W\"', ' \"W\"', ' \"W\"', ' \"W\"', ' \"W\"', ' \"W\"', ' \"W\"', ' \"W\"', ' \"W\"', ' \"W\"', ' \"W\"', ' \"W\"', ' \"W\"', ' \"W\"', ' \"W\"', ' \"W\"', ' \"W\"', ' \"W\"', ' \"W\"', ' \"W\"', ' \"W\"', ' \"W\"', ' \"W\"', ' \"W\"', ' \"W\"', ' \"W\"', ' \"W\"', ' \"W\"', ' \"W\"', ' \"W\"', ' \"W\"', ' \"W\"', ' \"W\"', ' \"W\"', ' \"W\"', ' \"W\"', ' \"W\"', ' \"W\"', ' \"W\"', ' \"W\"', ' \"W\"', ' \"W\"', ' \"W\"', ' \"W\"', ' \"W\"', ' \"W\"', ' \"W\"', ' \"W\"', ' \"W\"', ' \"W\"', ' \"W\"', ' \"W\"', ' \"W\"', ' \"W\"', ' \"W\"', ' \"W\"', ' \"W\"', ' \"W\"', ' \"W\"', ' \"W\"', ' \"W\"', ' \"W\"', ' \"W\"', ' \"W\"', ' \"W\"', ' \"W\"', ' \"W\"', ' \"W\"', ' \"W\"', ' \"W\"', ' \"W\"', ' \"W\"', ' \"W\"', ' \"W\"', ' \"W\"', ' \"W\"', ' \"W\"', ' \"W\"', ' \"W\"', ' \"W\"', ' \"W\"', ' \"W\"', ' \"W\"', ' \"W\"', ' \"W\"', ' \"W\"', ' \"W\"', ' \"W\"', ' \"W\"', ' \"W\"', ' \"W\"', ' \"W\"', ' \"W\"', ' \"W\"', ' \"W\"', ' \"W\"', ' \"W\"', ' \"W\"', ' \"W\"', ' \"W\"', ' \"W\"', ' \"W\"', ' \"W\"', ' \"W\"', ' \"W\"', ' \"W\"', ' \"W\"', ' \"W\"', ' \"W\"', ' \"W\"', ' \"W\"', ' \"W\"', ' \"W\"', ' \"W\"', ' \"W\"', ' \"W\"', ' \"W\"', ' \"W\"', ' \"W\"', ' \"W\"', ' \"W\"', ' \"W\"', ' \"W\"', ' \"W\"'], ' \"City\"': [' \"Youngstown\"', ' \"Yankton\"', ' \"Yakima\"', ' \"Worcester\"', ' \"Wisconsin Dells\"', ' \"Winston-Salem\"', ' \"Winnipeg\"', ' \"Winchester\"', ' \"Wilmington\"', ' \"Wilmington\"', ' \"Williston\"', ' \"Williamsport\"', ' \"Williamson\"', ' \"Wichita Falls\"', ' \"Wichita\"', ' \"Wheeling\"', ' \"West Palm Beach\"', ' \"Wenatchee\"', ' \"Weed\"', ' \"Waycross\"', ' \"Wausau\"', ' \"Waukegan\"', ' \"Watertown\"', ' \"Watertown\"', ' \"Waterloo\"', ' \"Waterbury\"', ' \"Washington\"', ' \"Warren\"', ' \"Walla Walla\"', ' \"Waco\"', ' \"Vincennes\"', ' \"Victoria\"', ' \"Vicksburg\"', ' \"Vancouver\"', ' \"Valley City\"', ' \"Valdosta\"', ' \"Utica\"', ' \"Uniontown\"', ' \"Tyler\"', ' \"Twin Falls\"', ' \"Tuscaloosa\"', ' \"Tupelo\"', ' \"Tulsa\"', ' \"Tucson\"', ' \"Trinidad\"', ' \"Trenton\"', ' \"Traverse City\"', ' \"Toronto\"', ' \"Topeka\"', ' \"Toledo\"', ' \"Texarkana\"', ' \"Terre Haute\"', ' \"Tampa\"', ' \"Tallahassee\"', ' \"Tacoma\"', ' \"Syracuse\"', ' \"Swainsboro\"', ' \"Sumter\"', ' \"Stroudsburg\"', ' \"Stockton\"', ' \"Stevens Point\"', ' \"Steubenville\"', ' \"Sterling\"', ' \"Staunton\"', ' \"Springfield\"', ' \"Springfield\"', ' \"Springfield\"', ' \"Springfield\"', ' \"Spokane\"', ' \"South Bend\"', ' \"Sioux Falls\"', ' \"Sioux City\"', ' \"Shreveport\"', ' \"Sherman\"', ' \"Sheridan\"', ' \"Seminole\"', ' \"Selma\"', ' \"Sedalia\"', ' \"Seattle\"', ' \"Scranton\"', ' \"Scottsbluff\"', ' \"Schenectady\"', ' \"Savannah\"', ' \"Sault Sainte Marie\"', ' \"Sarasota\"', ' \"Santa Rosa\"', ' \"Santa Fe\"', ' \"Santa Barbara\"', ' \"Santa Ana\"', ' \"San Jose\"', ' \"San Francisco\"', ' \"Sandusky\"', ' \"San Diego\"', ' \"San Bernardino\"', ' \"San Antonio\"', ' \"San Angelo\"', ' \"Salt Lake City\"', ' \"Salisbury\"', ' \"Salinas\"', ' \"Salina\"', ' \"Salida\"', ' \"Salem\"', ' \"Saint Paul\"', ' \"Saint Louis\"', ' \"Saint Joseph\"', ' \"Saint Joseph\"', ' \"Saint Johnsbury\"', ' \"Saint Cloud\"', ' \"Saint Augustine\"', ' \"Saginaw\"', ' \"Sacramento\"', ' \"Rutland\"', ' \"Roswell\"', ' \"Rocky Mount\"', ' \"Rock Springs\"', ' \"Rockford\"', ' \"Rochester\"', ' \"Rochester\"', ' \"Roanoke\"', ' \"Richmond\"', ' \"Richmond\"', ' \"Richfield\"', ' \"Rhinelander\"', ' \"Reno\"', ' \"Regina\"', ' \"Red Bluff\"', ' \"Reading\"', ' \"Ravenna\"'], ' \"State\"': [' OH', ' SD', ' WA', ' MA', ' WI', ' NC', ' MB', ' VA', ' NC', ' DE', ' ND', ' PA', ' WV', ' TX', ' KS', ' WV', ' FL', ' WA', ' CA', ' GA', ' WI', ' IL', ' SD', ' NY', ' IA', ' CT', ' DC', ' PA', ' WA', ' TX', ' IN', ' TX', ' MS', ' BC', ' ND', ' GA', ' NY', ' PA', ' TX', ' ID', ' AL', ' MS', ' OK', ' AZ', ' CO', ' NJ', ' MI', ' ON', ' KS', ' OH', ' TX', ' IN', ' FL', ' FL', ' WA', ' NY', ' GA', ' SC', ' PA', ' CA', ' WI', ' OH', ' CO', ' VA', ' OH', ' MO', ' MA', ' IL', ' WA', ' IN', ' SD', ' IA', ' LA', ' TX', ' WY', ' OK', ' AL', ' MO', ' WA', ' PA', ' NB', ' NY', ' GA', ' MI', ' FL', ' CA', ' NM', ' CA', ' CA', ' CA', ' CA', ' OH', ' CA', ' CA', ' TX', ' TX', ' UT', ' MD', ' CA', ' KS', ' CO', ' OR', ' MN', ' MO', ' MO', ' MI', ' VT', ' MN', ' FL', ' MI', ' CA', ' VT', ' NM', ' NC', ' WY', ' IL', ' NY', ' MN', ' VA', ' VA', ' IN', ' UT', ' WI', ' NV', ' SA', ' CA', ' PA', ' OH ']}\n"
     ]
    }
   ],
   "source": [
    "import pandas as pd\n",
    "\n",
    "# The .csv file is converted into a Pandas DataFrame. The DataFrame is then converted into a dictionary using the to_dict function. The dictionary is displayed in a list format\n",
    "df = pd.read_csv(\"cities.csv\")\n",
    "df_to_dict = df.to_dict(\"list\")\n",
    "print(df_to_dict)"
   ]
  },
  {
   "cell_type": "markdown",
   "metadata": {},
   "source": [
    "Q6. You are given a text file containing a string of words and you need to write a function to find words with a certain number of characters in the given text file. The length of the word will be the parameter of the function and will be given by the user. Remove duplicate words from the final list. [HINT - Take a look at split(), lower(), open() and input() functions in python]"
   ]
  },
  {
   "cell_type": "code",
   "execution_count": 95,
   "metadata": {},
   "outputs": [
    {
     "name": "stdout",
     "output_type": "stream",
     "text": [
      "Here are the words with length 4:\n",
      "\n",
      "with\n",
      "\n",
      "gray\n",
      "\n",
      "from\n",
      "\n",
      "data\n",
      "\n",
      "that\n",
      "\n",
      "many\n",
      "\n",
      "uses\n"
     ]
    }
   ],
   "source": [
    "# The Data Science.txt is read and split into a list, which makes it easier to parse\n",
    "def read_file():\n",
    "    with open(\"Data Science.txt\", 'r') as file:\n",
    "        text = file.read()\n",
    "\n",
    "    text_list = text.split()\n",
    "    return text_list\n",
    "\n",
    "# The user provides a particular word length. We return the user-specified length of words found in the .txt file.\n",
    "def find_word_length(length):\n",
    "    words_list = []\n",
    "    text_list = read_file()\n",
    "    for text in text_list:\n",
    "        if len(text) == length:\n",
    "            text = text.lower()\n",
    "            words_list.append(text)\n",
    "\n",
    "    unique_elements = list(set(words_list))\n",
    "\n",
    "    if len(unique_elements) == 0:\n",
    "        print(f\"There are no elements with length {length}\")\n",
    "        return\n",
    "\n",
    "    print(f\"Here are the words with length {length}:\")\n",
    "    for elems in unique_elements:\n",
    "        print(f\"\\n{elems}\")\n",
    "\n",
    "# We parse the user input to ensure invalid input isn't entered\n",
    "def length_input():\n",
    "    while True:\n",
    "        try:\n",
    "            length = int(input(\"Please enter a word length: \"))\n",
    "        except ValueError:\n",
    "            print(\"ERROR: Please provide a number\")\n",
    "            continue\n",
    "        return length\n",
    "\n",
    "length = length_input()\n",
    "find_word_length(length)\n"
   ]
  }
 ],
 "metadata": {
  "kernelspec": {
   "display_name": "Python 3",
   "language": "python",
   "name": "python3"
  },
  "language_info": {
   "codemirror_mode": {
    "name": "ipython",
    "version": 3
   },
   "file_extension": ".py",
   "mimetype": "text/x-python",
   "name": "python",
   "nbconvert_exporter": "python",
   "pygments_lexer": "ipython3",
   "version": "3.12.4"
  }
 },
 "nbformat": 4,
 "nbformat_minor": 2
}
